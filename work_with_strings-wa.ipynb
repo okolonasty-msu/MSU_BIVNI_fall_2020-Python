{
 "cells": [
  {
   "cell_type": "markdown",
   "metadata": {},
   "source": [
    "### Работа со строками"
   ]
  },
  {
   "cell_type": "markdown",
   "metadata": {},
   "source": [
    "![string](data:image/png;base64,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)"
   ]
  },
  {
   "cell_type": "markdown",
   "metadata": {},
   "source": [
    "**Python string definition**\\\n",
    "\\\n",
    "A string in Python is a sequence of characters. It is a derived data type. Strings are immutable. This means that once defined, they cannot be changed."
   ]
  },
  {
   "cell_type": "code",
   "execution_count": 13,
   "metadata": {},
   "outputs": [],
   "source": [
    "# Примеры строк\n",
    "string1 = 'Hellow World!'\n",
    "string2 = 'my birthday is 16/11/1998'\n",
    "string3 = ''\n",
    "string4 = 'first level\\nsecond level\\nthird level'\n",
    "string5 = '\\'this is a string\\' inside the string'\n",
    "string5_1 = '\"this is a string\" inside the string'"
   ]
  },
  {
   "cell_type": "code",
   "execution_count": 7,
   "metadata": {},
   "outputs": [
    {
     "name": "stdout",
     "output_type": "stream",
     "text": [
      "Hellow World!\n"
     ]
    }
   ],
   "source": [
    "print(string1)"
   ]
  },
  {
   "cell_type": "code",
   "execution_count": 8,
   "metadata": {},
   "outputs": [
    {
     "name": "stdout",
     "output_type": "stream",
     "text": [
      "my birthday is 16/11/1998\n"
     ]
    }
   ],
   "source": [
    "print(string2)"
   ]
  },
  {
   "cell_type": "code",
   "execution_count": 9,
   "metadata": {},
   "outputs": [
    {
     "name": "stdout",
     "output_type": "stream",
     "text": [
      "\n"
     ]
    }
   ],
   "source": [
    "print(string3)"
   ]
  },
  {
   "cell_type": "code",
   "execution_count": 10,
   "metadata": {},
   "outputs": [
    {
     "name": "stdout",
     "output_type": "stream",
     "text": [
      "first level\n",
      "second level\n",
      "third level\n"
     ]
    }
   ],
   "source": [
    "print(string4)"
   ]
  },
  {
   "cell_type": "code",
   "execution_count": 12,
   "metadata": {},
   "outputs": [
    {
     "name": "stdout",
     "output_type": "stream",
     "text": [
      "'this is a string' inside the string\n"
     ]
    }
   ],
   "source": [
    "print(string5)"
   ]
  },
  {
   "cell_type": "code",
   "execution_count": 14,
   "metadata": {},
   "outputs": [
    {
     "name": "stdout",
     "output_type": "stream",
     "text": [
      "\"this is a string\" inside the string\n"
     ]
    }
   ],
   "source": [
    "print(string5_1)"
   ]
  },
  {
   "cell_type": "code",
   "execution_count": 23,
   "metadata": {},
   "outputs": [
    {
     "name": "stdout",
     "output_type": "stream",
     "text": [
      "H\n",
      "e\n",
      "l\n",
      "l\n",
      "o\n",
      "w\n",
      " \n",
      "W\n",
      "o\n",
      "r\n",
      "l\n",
      "d\n",
      "!\n"
     ]
    }
   ],
   "source": [
    "for i in string1:\n",
    "    print(i)"
   ]
  },
  {
   "cell_type": "code",
   "execution_count": 22,
   "metadata": {},
   "outputs": [
    {
     "name": "stdout",
     "output_type": "stream",
     "text": [
      "H H H H H H H H H H H H H H H H H H H H H H H H H H H H H H H H H H H H H H H H H H H H H H H H H H \n",
      "e e e e e e e e e e e e e e e e e e e e e e e e e e e e e e e e e e e e e e e e e e e e e e e e e e \n",
      "l l l l l l l l l l l l l l l l l l l l l l l l l l l l l l l l l l l l l l l l l l l l l l l l l l \n",
      "l l l l l l l l l l l l l l l l l l l l l l l l l l l l l l l l l l l l l l l l l l l l l l l l l l \n",
      "o o o o o o o o o o o o o o o o o o o o o o o o o o o o o o o o o o o o o o o o o o o o o o o o o o \n",
      "w w w w w w w w w w w w w w w w w w w w w w w w w w w w w w w w w w w w w w w w w w w w w w w w w w \n",
      "                                                                                                    \n",
      "W W W W W W W W W W W W W W W W W W W W W W W W W W W W W W W W W W W W W W W W W W W W W W W W W W \n",
      "o o o o o o o o o o o o o o o o o o o o o o o o o o o o o o o o o o o o o o o o o o o o o o o o o o \n",
      "r r r r r r r r r r r r r r r r r r r r r r r r r r r r r r r r r r r r r r r r r r r r r r r r r r \n",
      "l l l l l l l l l l l l l l l l l l l l l l l l l l l l l l l l l l l l l l l l l l l l l l l l l l \n",
      "d d d d d d d d d d d d d d d d d d d d d d d d d d d d d d d d d d d d d d d d d d d d d d d d d d \n",
      "! ! ! ! ! ! ! ! ! ! ! ! ! ! ! ! ! ! ! ! ! ! ! ! ! ! ! ! ! ! ! ! ! ! ! ! ! ! ! ! ! ! ! ! ! ! ! ! ! ! \n"
     ]
    }
   ],
   "source": [
    "for i in string1:\n",
    "    print((i+' ')*50)"
   ]
  },
  {
   "cell_type": "code",
   "execution_count": 37,
   "metadata": {},
   "outputs": [
    {
     "name": "stdout",
     "output_type": "stream",
     "text": [
      "________________________________\n",
      "|                              |\n",
      "|                              |\n",
      "|                              |\n",
      "|                              |\n",
      "|                              |\n",
      "|                              |\n",
      "|                              |\n",
      "|                              |\n",
      "|                              |\n",
      "|                              |\n",
      "|                              |\n",
      "|                              |\n",
      "|                              |\n",
      "________________________________\n"
     ]
    }
   ],
   "source": [
    "for i in range(15):\n",
    "    if i == 0 or i == 14:\n",
    "        print('_'*32)\n",
    "    else:\n",
    "        print('|' + ' '*30 + '|')"
   ]
  },
  {
   "cell_type": "code",
   "execution_count": 71,
   "metadata": {},
   "outputs": [
    {
     "name": "stdout",
     "output_type": "stream",
     "text": [
      "________________________________\n",
      "|\\                             |\n",
      "| \\                            |\n",
      "|  \\                           |\n",
      "|   \\                          |\n",
      "|    \\                         |\n",
      "|     \\                        |\n",
      "|      \\                       |\n",
      "|       \\                      |\n",
      "|        \\                     |\n",
      "|         \\                    |\n",
      "|          \\                   |\n",
      "|           \\                  |\n",
      "|            \\                 |\n",
      "|             \\                |\n",
      "|              \\               |\n",
      "|               \\              |\n",
      "|                \\             |\n",
      "|                 \\            |\n",
      "|                  \\           |\n",
      "|                   \\          |\n",
      "|                    \\         |\n",
      "|                     \\        |\n",
      "|                      \\       |\n",
      "|                       \\      |\n",
      "|                        \\     |\n",
      "|                         \\    |\n",
      "|                          \\   |\n",
      "|                           \\  |\n",
      "________________________________\n"
     ]
    }
   ],
   "source": [
    "for i in range(30):\n",
    "    if i == 0 or i == 29:\n",
    "        print('_'*32)\n",
    "    else:\n",
    "        print('|' + ' '*(i-1) + '\\\\' + ' '*(30-i) + '|')\n",
    "        #print('|' + ' '*(30-i) + '/' + ' '*(i-1) + '|')"
   ]
  },
  {
   "cell_type": "code",
   "execution_count": 99,
   "metadata": {},
   "outputs": [
    {
     "name": "stdout",
     "output_type": "stream",
     "text": [
      "\n",
      "|\\                            /|\n",
      "| \\                          / |\n",
      "|  \\                        /  |\n",
      "|   \\                      /   |\n",
      "|    \\                    /    |\n",
      "|     \\                  /     |\n",
      "|      \\                /      |\n",
      "|       \\              /       |\n",
      "|        \\            /        |\n",
      "|         \\          /         |\n",
      "|          \\        /          |\n",
      "|           \\      /           |\n",
      "|            \\    /            |\n",
      "|             \\  /             |\n",
      "|              \\/              |\n",
      "|              /\\              |\n",
      "|             /  \\             |\n",
      "|            /    \\            |\n",
      "|           /      \\           |\n",
      "|          /        \\          |\n",
      "|         /          \\         |\n",
      "|        /            \\        |\n",
      "|       /              \\       |\n",
      "|      /                \\      |\n",
      "|     /                  \\     |\n",
      "|    /                    \\    |\n",
      "|   /                      \\   |\n",
      "|  /                        \\  |\n",
      "| /                          \\ |\n",
      "|/                            \\|\n",
      "\n"
     ]
    }
   ],
   "source": [
    "for i in range(32):\n",
    "    if i == 0 or i == 31:\n",
    "        print(''*32)\n",
    "    else:\n",
    "        if i < 16:\n",
    "            print('|' + ' '*(i-1) + '\\\\' + ' '*(30-2*i) + '/' + ' '*(i-1) + '|')\n",
    "        else:\n",
    "            print('|' + ' '*(30-i) + '/' + ' '*(2*i-30-2) + '\\\\' + ' '*(30-i) + '|')\n",
    "        "
   ]
  },
  {
   "cell_type": "code",
   "execution_count": 63,
   "metadata": {},
   "outputs": [
    {
     "name": "stdout",
     "output_type": "stream",
     "text": [
      "______________________________________________________________\n",
      "|\\/\\/\\/\\/\\/\\/\\/\\/\\/\\/\\/\\/\\/\\/\\/\\/\\/\\/\\/\\/\\/\\/\\/\\/\\/\\/\\/\\/\\/\\/|\n",
      "|\\/\\/\\/\\/\\/\\/\\/\\/\\/\\/\\/\\/\\/\\/\\/\\/\\/\\/\\/\\/\\/\\/\\/\\/\\/\\/\\/\\/\\/\\/|\n",
      "|\\/\\/\\/\\/\\/\\/\\/\\/\\/\\/\\/\\/\\/\\/\\/\\/\\/\\/\\/\\/\\/\\/\\/\\/\\/\\/\\/\\/\\/\\/|\n",
      "|\\/\\/\\/\\/\\/\\/\\/\\/\\/\\/\\/\\/\\/\\/\\/\\/\\/\\/\\/\\/\\/\\/\\/\\/\\/\\/\\/\\/\\/\\/|\n",
      "|\\/\\/\\/\\/\\/\\/\\/\\/\\/\\/\\/\\/\\/\\/\\/\\/\\/\\/\\/\\/\\/\\/\\/\\/\\/\\/\\/\\/\\/\\/|\n",
      "|\\/\\/\\/\\/\\/\\/\\/\\/\\/\\/\\/\\/\\/\\/\\/\\/\\/\\/\\/\\/\\/\\/\\/\\/\\/\\/\\/\\/\\/\\/|\n",
      "|\\/\\/\\/\\/\\/\\/\\/\\/\\/\\/\\/\\/\\/\\/\\/\\/\\/\\/\\/\\/\\/\\/\\/\\/\\/\\/\\/\\/\\/\\/|\n",
      "|\\/\\/\\/\\/\\/\\/\\/\\/\\/\\/\\/\\/\\/\\/\\/\\/\\/\\/\\/\\/\\/\\/\\/\\/\\/\\/\\/\\/\\/\\/|\n",
      "|\\/\\/\\/\\/\\/\\/\\/\\/\\/\\/\\/\\/\\/\\/\\/\\/\\/\\/\\/\\/\\/\\/\\/\\/\\/\\/\\/\\/\\/\\/|\n",
      "|\\/\\/\\/\\/\\/\\/\\/\\/\\/\\/\\/\\/\\/\\/\\/\\/\\/\\/\\/\\/\\/\\/\\/\\/\\/\\/\\/\\/\\/\\/|\n",
      "|\\/\\/\\/\\/\\/\\/\\/\\/\\/\\/\\/\\/\\/\\/\\/\\/\\/\\/\\/\\/\\/\\/\\/\\/\\/\\/\\/\\/\\/\\/|\n",
      "|\\/\\/\\/\\/\\/\\/\\/\\/\\/\\/\\/\\/\\/\\/\\/\\/\\/\\/\\/\\/\\/\\/\\/\\/\\/\\/\\/\\/\\/\\/|\n",
      "|\\/\\/\\/\\/\\/\\/\\/\\/\\/\\/\\/\\/\\/\\/\\/\\/\\/\\/\\/\\/\\/\\/\\/\\/\\/\\/\\/\\/\\/\\/|\n",
      "______________________________________________________________\n"
     ]
    }
   ],
   "source": [
    "for i in range(15):\n",
    "    if i == 0 or i == 14:\n",
    "        print('_'*62)\n",
    "    else:\n",
    "        print('|' + '\\\\/'*30 + '|')"
   ]
  },
  {
   "cell_type": "markdown",
   "metadata": {},
   "source": [
    "**Что можно делать со строками...**"
   ]
  },
  {
   "cell_type": "code",
   "execution_count": 137,
   "metadata": {},
   "outputs": [
    {
     "name": "stdout",
     "output_type": "stream",
     "text": [
      "меня зовут Настя\n"
     ]
    }
   ],
   "source": [
    "# 1) Складывать\n",
    "my_name = 'Настя'\n",
    "print('меня зовут '+ my_name)"
   ]
  },
  {
   "cell_type": "code",
   "execution_count": 139,
   "metadata": {},
   "outputs": [
    {
     "data": {
      "text/plain": [
       "'loool'"
      ]
     },
     "execution_count": 139,
     "metadata": {},
     "output_type": "execute_result"
    }
   ],
   "source": [
    "# 2) Умножать на число\n",
    "'l' + 'o'*3 + 'l'"
   ]
  },
  {
   "cell_type": "code",
   "execution_count": 220,
   "metadata": {},
   "outputs": [
    {
     "data": {
      "text/plain": [
       "'I like BIVNI'"
      ]
     },
     "execution_count": 220,
     "metadata": {},
     "output_type": "execute_result"
    }
   ],
   "source": [
    "# 3) Извлекать часть\n",
    "long = 'I like BIVNI course so much <З'\n",
    "short = long[:12]\n",
    "short"
   ]
  },
  {
   "cell_type": "code",
   "execution_count": 148,
   "metadata": {},
   "outputs": [
    {
     "data": {
      "text/plain": [
       "'I like BIVNI <З'"
      ]
     },
     "execution_count": 148,
     "metadata": {},
     "output_type": "execute_result"
    }
   ],
   "source": [
    "short + long[-3:]"
   ]
  },
  {
   "cell_type": "code",
   "execution_count": 154,
   "metadata": {},
   "outputs": [
    {
     "data": {
      "text/plain": [
       "'123456789'"
      ]
     },
     "execution_count": 154,
     "metadata": {},
     "output_type": "execute_result"
    }
   ],
   "source": [
    "# 4) Брать срезы\n",
    "seq = '1 2 3 4 5 6 7 8 9'\n",
    "seq[::2]"
   ]
  },
  {
   "cell_type": "code",
   "execution_count": 155,
   "metadata": {},
   "outputs": [
    {
     "data": {
      "text/plain": [
       "'2468'"
      ]
     },
     "execution_count": 155,
     "metadata": {},
     "output_type": "execute_result"
    }
   ],
   "source": [
    "seq[2::4]"
   ]
  },
  {
   "cell_type": "code",
   "execution_count": 156,
   "metadata": {},
   "outputs": [
    {
     "name": "stdout",
     "output_type": "stream",
     "text": [
      "палиндром\n",
      "морднилап\n"
     ]
    }
   ],
   "source": [
    "# 5) Переворачивать\n",
    "word = input()\n",
    "print(word[::-1])"
   ]
  },
  {
   "cell_type": "markdown",
   "metadata": {},
   "source": [
    "**Методы строк**"
   ]
  },
  {
   "cell_type": "code",
   "execution_count": 191,
   "metadata": {},
   "outputs": [
    {
     "name": "stdout",
     "output_type": "stream",
     "text": [
      "i Am a teSt sTRing)) \n"
     ]
    }
   ],
   "source": [
    "test_string = 'i Am a teSt sTRing)) '\n",
    "print(test_string)"
   ]
  },
  {
   "cell_type": "code",
   "execution_count": 192,
   "metadata": {},
   "outputs": [
    {
     "data": {
      "text/plain": [
       "21"
      ]
     },
     "execution_count": 192,
     "metadata": {},
     "output_type": "execute_result"
    }
   ],
   "source": [
    "len(test_string)"
   ]
  },
  {
   "cell_type": "code",
   "execution_count": 193,
   "metadata": {},
   "outputs": [
    {
     "data": {
      "text/plain": [
       "'I am a test string)) '"
      ]
     },
     "execution_count": 193,
     "metadata": {},
     "output_type": "execute_result"
    }
   ],
   "source": [
    "# 1) Озаглавливание первой буквы + все остальные маленькие\n",
    "test_string.capitalize()"
   ]
  },
  {
   "cell_type": "code",
   "execution_count": 194,
   "metadata": {},
   "outputs": [
    {
     "data": {
      "text/plain": [
       "'i am a test string)) '"
      ]
     },
     "execution_count": 194,
     "metadata": {},
     "output_type": "execute_result"
    }
   ],
   "source": [
    "# 2) Все буквы - маленькие\n",
    "test_string.lower()"
   ]
  },
  {
   "cell_type": "code",
   "execution_count": 195,
   "metadata": {
    "scrolled": true
   },
   "outputs": [
    {
     "data": {
      "text/plain": [
       "'I AM A TEST STRING)) '"
      ]
     },
     "execution_count": 195,
     "metadata": {},
     "output_type": "execute_result"
    }
   ],
   "source": [
    "# 3) Все буквы заглавные\n",
    "test_string.upper()"
   ]
  },
  {
   "cell_type": "code",
   "execution_count": 208,
   "metadata": {},
   "outputs": [],
   "source": [
    "test_string_2 = '  I am another test string '"
   ]
  },
  {
   "cell_type": "code",
   "execution_count": 202,
   "metadata": {},
   "outputs": [
    {
     "data": {
      "text/plain": [
       "'I am another test string)))'"
      ]
     },
     "execution_count": 202,
     "metadata": {},
     "output_type": "execute_result"
    }
   ],
   "source": [
    "# 4) Убрать пробелы по бокам\n",
    "test_string_2.strip()"
   ]
  },
  {
   "cell_type": "code",
   "execution_count": 204,
   "metadata": {},
   "outputs": [
    {
     "data": {
      "text/plain": [
       "'  I am another test string)))'"
      ]
     },
     "execution_count": 204,
     "metadata": {},
     "output_type": "execute_result"
    }
   ],
   "source": [
    "# 5) Убрать пробелы справа\n",
    "test_string_2.rstrip()"
   ]
  },
  {
   "cell_type": "code",
   "execution_count": 206,
   "metadata": {},
   "outputs": [
    {
     "data": {
      "text/plain": [
       "'I am another test string))) '"
      ]
     },
     "execution_count": 206,
     "metadata": {},
     "output_type": "execute_result"
    }
   ],
   "source": [
    "# 6) Убрать пробелы слева\n",
    "test_string_2.lstrip()"
   ]
  },
  {
   "cell_type": "code",
   "execution_count": 212,
   "metadata": {},
   "outputs": [],
   "source": [
    "test_string_3 = ')third test string)))'"
   ]
  },
  {
   "cell_type": "code",
   "execution_count": 214,
   "metadata": {},
   "outputs": [
    {
     "data": {
      "text/plain": [
       "'third test string'"
      ]
     },
     "execution_count": 214,
     "metadata": {},
     "output_type": "execute_result"
    }
   ],
   "source": [
    "# 7) Убрать что-то по бокам\n",
    "test_string_3.strip(')')\n",
    "\n",
    "# справа и слева аналогично"
   ]
  },
  {
   "cell_type": "code",
   "execution_count": 217,
   "metadata": {},
   "outputs": [
    {
     "data": {
      "text/plain": [
       "'i Am a teSt sTRing)) '"
      ]
     },
     "execution_count": 217,
     "metadata": {},
     "output_type": "execute_result"
    }
   ],
   "source": [
    "test_string"
   ]
  },
  {
   "cell_type": "code",
   "execution_count": 219,
   "metadata": {},
   "outputs": [
    {
     "data": {
      "text/plain": [
       "'I am a test string <З'"
      ]
     },
     "execution_count": 219,
     "metadata": {},
     "output_type": "execute_result"
    }
   ],
   "source": [
    "# Композиция методов\n",
    "test_string.capitalize().strip().strip(')') + ' <З'"
   ]
  },
  {
   "cell_type": "code",
   "execution_count": 223,
   "metadata": {},
   "outputs": [
    {
     "data": {
      "text/plain": [
       "0"
      ]
     },
     "execution_count": 223,
     "metadata": {},
     "output_type": "execute_result"
    }
   ],
   "source": [
    "# 8) Первое вхождение элемента\n",
    "test_string.index('i')"
   ]
  },
  {
   "cell_type": "code",
   "execution_count": 225,
   "metadata": {},
   "outputs": [
    {
     "data": {
      "text/plain": [
       "2"
      ]
     },
     "execution_count": 225,
     "metadata": {},
     "output_type": "execute_result"
    }
   ],
   "source": [
    "# 9) Число вхождений элемента\n",
    "test_string.count('i')"
   ]
  },
  {
   "cell_type": "code",
   "execution_count": 231,
   "metadata": {},
   "outputs": [],
   "source": [
    "# 10) Replacing\n",
    "lol_string = 'lol'"
   ]
  },
  {
   "cell_type": "code",
   "execution_count": 233,
   "metadata": {},
   "outputs": [
    {
     "data": {
      "text/plain": [
       "'loooool'"
      ]
     },
     "execution_count": 233,
     "metadata": {},
     "output_type": "execute_result"
    }
   ],
   "source": [
    "loooool_string = lol_string.replace('o', 'ooooo')\n",
    "loooool_string"
   ]
  },
  {
   "cell_type": "code",
   "execution_count": 235,
   "metadata": {},
   "outputs": [
    {
     "data": {
      "text/plain": [
       "'WoooooW'"
      ]
     },
     "execution_count": 235,
     "metadata": {},
     "output_type": "execute_result"
    }
   ],
   "source": [
    "wooooow_string = loooool_string.replace('l', 'W')\n",
    "wooooow_string"
   ]
  },
  {
   "cell_type": "markdown",
   "metadata": {},
   "source": [
    "### Чтение из stdin"
   ]
  },
  {
   "cell_type": "code",
   "execution_count": 100,
   "metadata": {},
   "outputs": [
    {
     "name": "stdout",
     "output_type": "stream",
     "text": [
      "4\n"
     ]
    },
    {
     "data": {
      "text/plain": [
       "'4'"
      ]
     },
     "execution_count": 100,
     "metadata": {},
     "output_type": "execute_result"
    }
   ],
   "source": [
    "input()"
   ]
  },
  {
   "cell_type": "code",
   "execution_count": 102,
   "metadata": {},
   "outputs": [
    {
     "name": "stdout",
     "output_type": "stream",
     "text": [
      "6\n"
     ]
    }
   ],
   "source": [
    "a = input()"
   ]
  },
  {
   "cell_type": "code",
   "execution_count": 104,
   "metadata": {},
   "outputs": [
    {
     "data": {
      "text/plain": [
       "str"
      ]
     },
     "execution_count": 104,
     "metadata": {},
     "output_type": "execute_result"
    }
   ],
   "source": [
    "type(a)"
   ]
  },
  {
   "cell_type": "markdown",
   "metadata": {},
   "source": [
    "**Задача 1**: На вход в stdin подается строка с числами через пробел, найти проийведение этих чисел"
   ]
  },
  {
   "cell_type": "code",
   "execution_count": 116,
   "metadata": {},
   "outputs": [],
   "source": [
    "import numpy as np"
   ]
  },
  {
   "cell_type": "markdown",
   "metadata": {},
   "source": [
    "**Задача 2**: На вход подается строка с float-числами записанными через запятую, найти результат их целочисленного деления на 7 и вывести строку с результатами, записанными через пробел."
   ]
  },
  {
   "cell_type": "markdown",
   "metadata": {},
   "source": [
    "### Форматирование строк"
   ]
  },
  {
   "cell_type": "markdown",
   "metadata": {},
   "source": [
    "**Форматирование дат**"
   ]
  },
  {
   "cell_type": "code",
   "execution_count": 250,
   "metadata": {},
   "outputs": [],
   "source": [
    "from datetime import datetime"
   ]
  },
  {
   "cell_type": "code",
   "execution_count": 255,
   "metadata": {},
   "outputs": [
    {
     "data": {
      "text/plain": [
       "datetime.datetime(2020, 10, 30, 21, 18, 30, 860719)"
      ]
     },
     "execution_count": 255,
     "metadata": {},
     "output_type": "execute_result"
    }
   ],
   "source": [
    "today = datetime.now()\n",
    "today"
   ]
  },
  {
   "cell_type": "code",
   "execution_count": 265,
   "metadata": {},
   "outputs": [
    {
     "name": "stdout",
     "output_type": "stream",
     "text": [
      "Today's date is 2020-10-30 21:18\n"
     ]
    }
   ],
   "source": [
    "print(\"Today's date is {:%Y-%m-%d %H:%M}\".format(today))"
   ]
  },
  {
   "cell_type": "code",
   "execution_count": 278,
   "metadata": {},
   "outputs": [
    {
     "name": "stdout",
     "output_type": "stream",
     "text": [
      "Сегодня 30 Oct 2020 года. Московское время: 21:18\n"
     ]
    }
   ],
   "source": [
    "print(\"Сегодня {:%d %b} {:%Y} года. Московское время: {:%H:%M}\".format(today, today, today))"
   ]
  },
  {
   "cell_type": "code",
   "execution_count": 279,
   "metadata": {},
   "outputs": [
    {
     "name": "stdout",
     "output_type": "stream",
     "text": [
      "Сегодня 30 число месяца 10 2020 года. Московское время 21:18:30.860719\n"
     ]
    }
   ],
   "source": [
    "print(f'Сегодня {today.day} число месяца {today.month} {today.year} года. Московское время {today.time()}')"
   ]
  },
  {
   "cell_type": "code",
   "execution_count": null,
   "metadata": {},
   "outputs": [],
   "source": [
    "my_name = 'Настя'\n",
    "my_age = '21'\n",
    "my_job = 'исследователь данных'"
   ]
  },
  {
   "cell_type": "code",
   "execution_count": 280,
   "metadata": {},
   "outputs": [
    {
     "data": {
      "text/plain": [
       "'Меня зовут Настя. Мне 21 лет и я исследователь данных'"
      ]
     },
     "execution_count": 280,
     "metadata": {},
     "output_type": "execute_result"
    }
   ],
   "source": [
    "#f-srting\n",
    "f'Меня зовут {my_name}. Мне {my_age} лет и я {my_job}'"
   ]
  },
  {
   "cell_type": "code",
   "execution_count": 311,
   "metadata": {},
   "outputs": [
    {
     "data": {
      "text/plain": [
       "'Меня зовут Настя. Мне 21.00 лет и я исследователь данных'"
      ]
     },
     "execution_count": 311,
     "metadata": {},
     "output_type": "execute_result"
    }
   ],
   "source": [
    "#string formating\n",
    "'Меня зовут {}. Мне {:.2f} лет и я {}'.format(my_name, float(my_age), my_job)"
   ]
  },
  {
   "cell_type": "code",
   "execution_count": 282,
   "metadata": {},
   "outputs": [
    {
     "data": {
      "text/plain": [
       "'Меня зовут Настя. Мне 21 лет и я исследователь данных'"
      ]
     },
     "execution_count": 282,
     "metadata": {},
     "output_type": "execute_result"
    }
   ],
   "source": [
    "#string formating\n",
    "'Меня зовут {1}. Мне {0} лет и я {2}'.format(my_age, my_name, my_job)"
   ]
  },
  {
   "cell_type": "code",
   "execution_count": 290,
   "metadata": {},
   "outputs": [],
   "source": [
    "def cost_func(q):\n",
    "    return 5.65*q**2 - 10.02*q + 2/3"
   ]
  },
  {
   "cell_type": "code",
   "execution_count": 291,
   "metadata": {},
   "outputs": [],
   "source": [
    "tc = cost_func(5)\n",
    "tr = 250"
   ]
  },
  {
   "cell_type": "code",
   "execution_count": 289,
   "metadata": {},
   "outputs": [],
   "source": [
    "profit = tr - tc"
   ]
  },
  {
   "cell_type": "code",
   "execution_count": 293,
   "metadata": {},
   "outputs": [
    {
     "data": {
      "text/plain": [
       "'Our total costs were 91.82$, so the profit is equal to 158.18$'"
      ]
     },
     "execution_count": 293,
     "metadata": {},
     "output_type": "execute_result"
    }
   ],
   "source": [
    "f'Our total costs are {tc:.2f}$, so the profit is equal to {tr-tc:.2f}$'"
   ]
  },
  {
   "cell_type": "code",
   "execution_count": 294,
   "metadata": {},
   "outputs": [
    {
     "data": {
      "text/plain": [
       "'Our total costs were 91.816667$, so the profit is equal to 158.183333$'"
      ]
     },
     "execution_count": 294,
     "metadata": {},
     "output_type": "execute_result"
    }
   ],
   "source": [
    "f'Our total costs are {tc:f}$, so the profit is equal to {tr-tc:f}$'"
   ]
  },
  {
   "cell_type": "code",
   "execution_count": 305,
   "metadata": {},
   "outputs": [
    {
     "data": {
      "text/plain": [
       "'Our total costs were 9.181667e+01$, so the profit is equal to 158$'"
      ]
     },
     "execution_count": 305,
     "metadata": {},
     "output_type": "execute_result"
    }
   ],
   "source": [
    "f'Our total costs are {tc:e}$, so the profit is equal to {int(tr-tc):d}$'"
   ]
  },
  {
   "cell_type": "markdown",
   "metadata": {},
   "source": [
    "### Regex"
   ]
  },
  {
   "cell_type": "markdown",
   "metadata": {},
   "source": [
    "**REGular EXpression**:\\\n",
    "String containing a combination of normal characters and special metacharacters that describes patterns to find text or positions within a text\n"
   ]
  },
  {
   "cell_type": "code",
   "execution_count": 3,
   "metadata": {},
   "outputs": [],
   "source": [
    "import re"
   ]
  },
  {
   "cell_type": "code",
   "execution_count": 4,
   "metadata": {},
   "outputs": [
    {
     "data": {
      "text/plain": [
       "'st\\\\d\\\\D{3}\\\\w+?nse'"
      ]
     },
     "execution_count": 4,
     "metadata": {},
     "output_type": "execute_result"
    }
   ],
   "source": [
    "# Пример \n",
    "r'st\\d\\D{3}\\w+?nse'"
   ]
  },
  {
   "cell_type": "code",
   "execution_count": 5,
   "metadata": {},
   "outputs": [
    {
     "data": {
      "text/plain": [
       "'htntfjf2-4-5-%$'"
      ]
     },
     "execution_count": 5,
     "metadata": {},
     "output_type": "execute_result"
    }
   ],
   "source": [
    "# Еще пример\n",
    "r'htntfjf2-4-5-%$'"
   ]
  },
  {
   "cell_type": "code",
   "execution_count": 6,
   "metadata": {},
   "outputs": [],
   "source": [
    "#Создадим строку для работы с ней"
   ]
  },
  {
   "cell_type": "code",
   "execution_count": 7,
   "metadata": {},
   "outputs": [],
   "source": [
    "name = ['Judy', 'Maryy']\n",
    "age = [30, 30]\n",
    "state = ['CA', 'TX']\n",
    "city = ['Los-Angeles', 'Sah-Francisco']\n",
    "job = ['scientist', 'fitness coach']\n",
    "email = ['jjudy90beaty_quine@gmai.com', 'marytailor90@gmail.us']\n",
    "phone = ['+1-979-543-29-46', '+1-777-777-77-77']"
   ]
  },
  {
   "cell_type": "code",
   "execution_count": 8,
   "metadata": {},
   "outputs": [],
   "source": [
    "string = f\"My name is {name[0]}. I'm {age[0]} y.o. and Im a {job[0]} from {city[0]},{state[0]}: it's a veeery sunny \\\n",
    "place.\\\n",
    "U can text me here {email[0]} and my phone {phone[0]}.\\n{name[1]} is my beeest best friend.. I really love \\\n",
    "her, she ia a very good {job[1]} now she is in {city[1]}. her contasts: email {email[1]}, phone {phone[1]}\""
   ]
  },
  {
   "cell_type": "code",
   "execution_count": 9,
   "metadata": {
    "scrolled": true
   },
   "outputs": [
    {
     "name": "stdout",
     "output_type": "stream",
     "text": [
      "My name is Judy. I'm 30 y.o. and Im a scientist from Los-Angeles,CA: it's a veeery sunny place.U can text me here jjudy90beaty_quine@gmai.com and my phone +1-979-543-29-46.\n",
      "Maryy is my beeest best friend.. I really love her, she ia a very good fitness coach now she is in Sah-Francisco. her contasts: email marytailor90@gmail.us, phone +1-777-777-77-77\n"
     ]
    }
   ],
   "source": [
    "print(string)"
   ]
  },
  {
   "cell_type": "code",
   "execution_count": 10,
   "metadata": {},
   "outputs": [
    {
     "data": {
      "text/plain": [
       "['my', 'my']"
      ]
     },
     "execution_count": 10,
     "metadata": {},
     "output_type": "execute_result"
    }
   ],
   "source": [
    "re.findall(r'my', string)"
   ]
  },
  {
   "cell_type": "markdown",
   "metadata": {},
   "source": [
    "**Основные метасимволы**:\\\n",
    "\\w - любой словесный символ\\\n",
    "\\W - любой несловесный символ\\\n",
    "\\d - любая цифра\\\n",
    "\\D - любой символ кроме цифры\\\n",
    "\\s - пробел\\\n",
    "\\S - не пробел\\\n",
    ". - любой символ\\\n",
    "^ - начало строки\\\n",
    "$ - конец строки\\\n",
    "[a-zA-z1-9] - любой из этих символов\\\n",
    "'+' - один или более раз\\\n",
    "'*' - ноль или более раз\\\n",
    "{a,b} - от a до b раз\\\n"
   ]
  },
  {
   "cell_type": "markdown",
   "metadata": {},
   "source": [
    "**Основные команды**\\\n",
    "findall\\\n",
    "sub"
   ]
  },
  {
   "cell_type": "markdown",
   "metadata": {},
   "source": [
    "**Виды поиска**\\\n",
    "Жадный (по умолчанию) - максимальной длины подходящая подстрока\\\n",
    "Не жадный (ленивый) - минимальная подходящая подстрока "
   ]
  },
  {
   "cell_type": "code",
   "execution_count": 11,
   "metadata": {},
   "outputs": [
    {
     "data": {
      "text/plain": [
       "[\"My name is Judy. I'm 30 y.o. and Im a scientist from Los-Angeles,CA: it's a veeery sunny place.U can text me here jjudy90beaty_quine@gmai.com and my phone +1-979-543-29-46.\",\n",
       " '',\n",
       " 'Maryy is my beeest best friend.. I really love her, she ia a very good fitness coach now she is in Sah-Francisco. her contasts: email marytailor90@gmail.us, phone +1-777-777-77-77',\n",
       " '']"
      ]
     },
     "execution_count": 11,
     "metadata": {},
     "output_type": "execute_result"
    }
   ],
   "source": [
    "re.findall(r'.*', string)"
   ]
  },
  {
   "cell_type": "code",
   "execution_count": 12,
   "metadata": {},
   "outputs": [
    {
     "data": {
      "text/plain": [
       "['3',\n",
       " '0',\n",
       " '9',\n",
       " '0',\n",
       " '1',\n",
       " '9',\n",
       " '7',\n",
       " '9',\n",
       " '5',\n",
       " '4',\n",
       " '3',\n",
       " '2',\n",
       " '9',\n",
       " '4',\n",
       " '6',\n",
       " '9',\n",
       " '0',\n",
       " '1',\n",
       " '7',\n",
       " '7',\n",
       " '7',\n",
       " '7',\n",
       " '7',\n",
       " '7',\n",
       " '7',\n",
       " '7',\n",
       " '7',\n",
       " '7']"
      ]
     },
     "execution_count": 12,
     "metadata": {},
     "output_type": "execute_result"
    }
   ],
   "source": [
    "re.findall(r'\\d', string)"
   ]
  },
  {
   "cell_type": "code",
   "execution_count": 13,
   "metadata": {
    "scrolled": true
   },
   "outputs": [
    {
     "data": {
      "text/plain": [
       "['30', '90', '979', '543', '29', '46', '90', '777', '777', '77', '77']"
      ]
     },
     "execution_count": 13,
     "metadata": {},
     "output_type": "execute_result"
    }
   ],
   "source": [
    "re.findall(r'\\d{2,3}', string)"
   ]
  },
  {
   "cell_type": "code",
   "execution_count": 14,
   "metadata": {
    "scrolled": true
   },
   "outputs": [
    {
     "data": {
      "text/plain": [
       "['30',\n",
       " '90',\n",
       " '1',\n",
       " '979',\n",
       " '543',\n",
       " '29',\n",
       " '46',\n",
       " '90',\n",
       " '1',\n",
       " '777',\n",
       " '777',\n",
       " '77',\n",
       " '77']"
      ]
     },
     "execution_count": 14,
     "metadata": {},
     "output_type": "execute_result"
    }
   ],
   "source": [
    "re.findall(r'\\d{1,}', string)"
   ]
  },
  {
   "cell_type": "code",
   "execution_count": 15,
   "metadata": {},
   "outputs": [
    {
     "data": {
      "text/plain": [
       "['30',\n",
       " '90',\n",
       " '1',\n",
       " '979',\n",
       " '543',\n",
       " '29',\n",
       " '46',\n",
       " '90',\n",
       " '1',\n",
       " '777',\n",
       " '777',\n",
       " '77',\n",
       " '77']"
      ]
     },
     "execution_count": 15,
     "metadata": {},
     "output_type": "execute_result"
    }
   ],
   "source": [
    "#Аналог\n",
    "re.findall(r'\\d+', string)"
   ]
  },
  {
   "cell_type": "code",
   "execution_count": 16,
   "metadata": {},
   "outputs": [
    {
     "data": {
      "text/plain": [
       "['+1-979-543-29-46', '+1-777-777-77-77']"
      ]
     },
     "execution_count": 16,
     "metadata": {},
     "output_type": "execute_result"
    }
   ],
   "source": [
    "#Найдем номера телефонов\n",
    "re.findall(r'\\+\\d{1}-\\d{3}-\\d{3}-\\d{2}-\\d{2}', string)"
   ]
  },
  {
   "cell_type": "code",
   "execution_count": 17,
   "metadata": {},
   "outputs": [
    {
     "data": {
      "text/plain": [
       "['+1-979-543-29-46', '+1-777-777-77-77']"
      ]
     },
     "execution_count": 17,
     "metadata": {},
     "output_type": "execute_result"
    }
   ],
   "source": [
    "#Найдем номера телефонов\n",
    "re.findall(r'\\+\\d{1}-\\d{3}-\\d{3}-\\d{2}-\\d{2}', string)"
   ]
  },
  {
   "cell_type": "code",
   "execution_count": 18,
   "metadata": {},
   "outputs": [
    {
     "data": {
      "text/plain": [
       "['CA']"
      ]
     },
     "execution_count": 18,
     "metadata": {},
     "output_type": "execute_result"
    }
   ],
   "source": [
    "#Найдем Штаты\n",
    "re.findall(r'[A-Z]{2}', string)"
   ]
  },
  {
   "cell_type": "code",
   "execution_count": 19,
   "metadata": {},
   "outputs": [
    {
     "data": {
      "text/plain": [
       "['My', 'Judy', 'Im', 'Los', 'Angeles', 'CA', 'Maryy', 'Sah', 'Francisco']"
      ]
     },
     "execution_count": 19,
     "metadata": {},
     "output_type": "execute_result"
    }
   ],
   "source": [
    "# Все, что начинается с больших букв\n",
    "re.findall(r'[A-Z]{1,2}\\w+', string)"
   ]
  },
  {
   "cell_type": "code",
   "execution_count": 20,
   "metadata": {},
   "outputs": [
    {
     "data": {
      "text/plain": [
       "['e', 'n', 'j', 'y', 'e', '.', 'l', 'o', 's', '7', '7', '7', '7']"
      ]
     },
     "execution_count": 20,
     "metadata": {},
     "output_type": "execute_result"
    }
   ],
   "source": [
    "# Повторяющиеся буквы\n",
    "re.findall(r'(.)\\1{1,}', string)"
   ]
  },
  {
   "cell_type": "code",
   "execution_count": 22,
   "metadata": {},
   "outputs": [],
   "source": [
    "#Жадный - нежадный\n",
    "zhad = re.findall(r'\\d+', string)\n",
    "lazy = re.findall(r'\\d+?', string)"
   ]
  },
  {
   "cell_type": "code",
   "execution_count": null,
   "metadata": {},
   "outputs": [],
   "source": [
    "# Группы"
   ]
  }
 ],
 "metadata": {
  "kernelspec": {
   "display_name": "Python 3",
   "language": "python",
   "name": "python3"
  },
  "language_info": {
   "codemirror_mode": {
    "name": "ipython",
    "version": 3
   },
   "file_extension": ".py",
   "mimetype": "text/x-python",
   "name": "python",
   "nbconvert_exporter": "python",
   "pygments_lexer": "ipython3",
   "version": "3.7.4"
  }
 },
 "nbformat": 4,
 "nbformat_minor": 2
}
